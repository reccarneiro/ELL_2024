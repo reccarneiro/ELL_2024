{
 "cells": [
  {
   "cell_type": "code",
   "execution_count": 1,
   "id": "f77fc6b7-08fd-4806-aea4-cba9683bcf1a",
   "metadata": {},
   "outputs": [],
   "source": [
    "# Import data\n",
    "import datetime\n",
    "import numpy as np\n",
    "import pandas as pd\n",
    "import matplotlib.pyplot as plt\n",
    "import time\n",
    "import numba\n",
    "from numba import jit\n",
    "from functions import *\n",
    "import plotly.graph_objects as go\n",
    "import xgboost as xgb\n",
    "from sklearn.ensemble import RandomForestRegressor\n",
    "from sklearn.linear_model import Ridge\n",
    "from sklearn.linear_model import LinearRegression\n",
    "from sklearn.linear_model import Lasso\n",
    "from sklearn.model_selection import cross_val_score\n",
    "import statsmodels.api as sm \n",
    "from IPython.display import display, HTML\n",
    "import plotly\n",
    "import tensorflow as tf\n",
    "import random\n",
    "import sqlite3\n",
    "import os\n",
    "X_used, Y = get_data(42)\n",
    "n = X_used.shape[0]\n",
    "\n",
    "grid_size = 50\n",
    "a_grid = np.linspace(np.min(X_used.age), np.max(X_used.age), grid_size)\n",
    "w_grid = np.linspace(np.min(X_used.hh_inc), np.max(X_used.hh_inc), grid_size)\n",
    "xv, wv = np.meshgrid(a_grid, w_grid, indexing='ij')\n",
    "\n",
    "X_used_cnst = sm.add_constant(X_used)\n",
    "model = sm.OLS(Y,X_used_cnst)\n",
    "results = model.fit()\n",
    "# results.summary()"
   ]
  },
  {
   "cell_type": "code",
   "execution_count": 2,
   "id": "9e6e80ce-8dac-475a-9fe2-39e32b2b63f8",
   "metadata": {},
   "outputs": [
    {
     "name": "stdout",
     "output_type": "stream",
     "text": [
      "DATABASE TABLE ALREADY EXISTS\n",
      "DATABASE TABLE ALREADY EXISTS\n"
     ]
    }
   ],
   "source": [
    "# Make Database\n",
    "database_name = 'database_happiness_NP.db'\n",
    "con = sqlite3.connect(os.path.join('Results', database_name))\n",
    "cur = con.cursor()\n",
    "\n",
    "res = cur.execute(\"\"\"SELECT name FROM sqlite_master WHERE type='table'\"\"\")\n",
    "table_names = res.fetchall()\n",
    "if ~np.isin('ATE', table_names):\n",
    "    print(\"CREATE NEW DATABASE TABLE\")\n",
    "    cur.execute(\"\"\"CREATE TABLE IF NOT EXISTS ATE(\n",
    "                Method TEXT NOT NULL,\n",
    "                Model TEXT NOT NULL,\n",
    "                Seed INTEGER NOT NULL,\n",
    "                Param_val TEXT NOT NULL,\n",
    "                Treatment TEXT NOT NULL,\n",
    "                Treat_Val REAL NOT NULL,\n",
    "                PRIMARY KEY (Method, Model, Seed, Treatment))\"\"\")\n",
    "    con.commit()\n",
    "else:\n",
    "    print(\"DATABASE TABLE ALREADY EXISTS\")\n",
    "    con.commit()\n",
    "\n",
    "if ~np.isin('CATE', table_names):   #create the heterogeneous across income and age variables\n",
    "    print(\"CREATE NEW DATABASE TABLE\")\n",
    "    cur.execute(\"\"\"CREATE TABLE IF NOT EXISTS CATE(\n",
    "                Method TEXT NOT NULL,\n",
    "                Model TEXT NOT NULL,\n",
    "                Seed INTEGER NOT NULL,\n",
    "                Param_val TEXT NOT NULL,\n",
    "                Treatment TEXT NOT NULL,\n",
    "                Conditional TEXT NOT NULL,\n",
    "                Treat_Val REAL NOT NULL,\n",
    "                Condi_Val REAL NOT NULL,\n",
    "                PRIMARY KEY (Method, Model, Seed, Treatment, Conditional, Condi_Val))\"\"\")\n",
    "    con.commit()\n",
    "else:\n",
    "    print(\"DATABASE TABLE ALREADY EXISTS\")\n",
    "    con.commit()"
   ]
  },
  {
   "cell_type": "code",
   "execution_count": 4,
   "id": "8b5a73c5-9f36-43e9-b6e6-a2ce218d2a1c",
   "metadata": {},
   "outputs": [],
   "source": [
    "h = 1  # Bandwidth parameter\n",
    "weights_w = np.zeros((n, grid_size))\n",
    "for i in range(grid_size):\n",
    "    u = np.abs(X_used['hh_inc'].values - w_grid[i])/h\n",
    "    val = Gaussian(u)\n",
    "    weights_w[:,i] = val/np.sum(val)\n",
    "\n",
    "h = 1  # Bandwidth parameter\n",
    "weights_a = np.zeros((n, grid_size))\n",
    "for i in range(grid_size):\n",
    "    u = np.abs(X_used['age'].values - a_grid[i])/h\n",
    "    val = Gaussian(u)\n",
    "    weights_a[:,i] = val/np.sum(val)\n",
    "\n",
    "characteristic_names = ['zerotofive','sixtotwenty','grp','home_own','gender','isHHH',\n",
    "                        'live_together','college_educ','work','get_social_benefit',\n",
    "                        'got_social_benefit','religion','marriage','health','health','health',\n",
    "                        'exercise','exercise','exercise','smoke','alcohol']\n",
    "\n",
    "ATE_names = ['zerotofive','sixtotwenty','grp','home_own','gender','isHHH',\n",
    "                        'live_together','college_educ','work','get_social_benefit',\n",
    "                        'got_social_benefit','religion','marriage','health1','health2','health3',\n",
    "                        'exercise1','exercise2','exercise3','smoke','alcohol']\n",
    "\n",
    "positives = [1,1,1,1,1,1,1,1,1,1,1,1,1,5,5,2,3,3,1,1,1]\n",
    "negatives = [0,0,0,0,0,0,0,0,0,0,0,0,0,1,4,1,0,2,0,0,0]\n",
    "plot_names = ['Baby - No Baby', 'Teenager - No Teenager', 'Grandparents - No Grandparents','Homeowner - Lease',\n",
    "              'Female - Male', 'Head - Not Head', 'Live Together - Separate', 'College Education - No College Education',\n",
    "              'Work - No Work','Receive Social Insurance - Has Never Received', 'Had Received Social Insurance - Has Never Received',\n",
    "              'Religion - No Religion','Married - Not Married', 'Very Healty (5) - Very Unhealty (1)','Very Healty (5) - Healty (4)',\n",
    "              'Unhealty (2) - Very Unhealty (1)','Exercise regularly - No Exercise','Exercise regularly - Exercise irregularly',\n",
    "              'Almost No Exercise - No Exercise', 'Smoke - No Smoke', 'Alcohol - No Alcohol']\n",
    "seed = 42"
   ]
  },
  {
   "cell_type": "code",
   "execution_count": 5,
   "id": "1828c00d",
   "metadata": {},
   "outputs": [
    {
     "data": {
      "image/png": "[encoded data removed]",
      "text/plain": [
       "<Figure size 640x480 with 1 Axes>"
      ]
     },
     "metadata": {},
     "output_type": "display_data"
    },
    {
     "data": {
      "image/png": "[encoded data removed]",
      "text/plain": [
       "<Figure size 640x480 with 1 Axes>"
      ]
     },
     "metadata": {},
     "output_type": "display_data"
    },
    {
     "data": {
      "image/png": "[encoded data removed]",
      "text/plain": [
       "<Figure size 640x480 with 1 Axes>"
      ]
     },
     "metadata": {},
     "output_type": "display_data"
    }
   ],
   "source": [
    "## Import Tuned Parameters\n",
    "query = \"select * from cv_error where seed=%i\"%seed\n",
    "cve_read = pd.read_sql(query,con)\n",
    "\n",
    "Model_names = np.unique(cve_read.Model)\n",
    "model_n = Model_names.shape[0]\n",
    "tuned_params = {}\n",
    "for i,m in enumerate(Model_names):\n",
    "    temp = cve_read.loc[cve_read.Model==m]\n",
    "    idx = temp.Tune_Param=='CV_grid'\n",
    "    grid = temp[idx].values[0][3:]\n",
    "    val = temp[~idx].values[0][3:]\n",
    "    if np.isin('None', grid):\n",
    "        grid = [None if x=='None' else x for x in grid]\n",
    "    plt.plot(grid,val)\n",
    "    plt.scatter(grid[val.argmin()],val[val.argmin()])\n",
    "    plt.title('%s CV Error, argmin=%i, min=%0.4f'%(m,grid[val.argmin()],val[val.argmin()]))\n",
    "    plt.show()\n",
    "    tuned_params[m] = grid[val.argmin()]"
   ]
  },
  {
   "cell_type": "code",
   "execution_count": 6,
   "id": "43c20f2b-c4c3-4481-938a-7c77928ddcd8",
   "metadata": {},
   "outputs": [
    {
     "name": "stdout",
     "output_type": "stream",
     "text": [
      "elapsed time = 59.03 sec; 2024-08-22 09:57:02.559625\n",
      "elapsed time = 3.31 sec; 2024-08-22 09:57:05.872805\n",
      "elapsed time = 38.77 sec; 2024-08-22 09:57:44.645938\n"
     ]
    }
   ],
   "source": [
    "t = time.time()\n",
    "n_estimators = 500\n",
    "RF_model = RandomForestRegressor(n_estimators=n_estimators, max_depth=int(tuned_params['Random Forest']), random_state=seed)\n",
    "RF_model.fit(X_used,Y)\n",
    "elapsed = time.time() - t\n",
    "print('elapsed time = %0.2f sec; %s'%(elapsed, datetime.datetime.now()))\n",
    "\n",
    "t = time.time()\n",
    "XGB_model = xgb.XGBRegressor(n_jobs=1, tree_method=\"exact\", n_estimators=int(tuned_params['XGBoost']),random_state=seed)\n",
    "XGB_model.fit(X_used,Y)\n",
    "elapsed = time.time() - t\n",
    "print('elapsed time = %0.2f sec; %s'%(elapsed, datetime.datetime.now()))\n",
    "\n",
    "t = time.time()\n",
    "num_parallel_tree = 100\n",
    "subsample = np.sqrt(X_used.shape[0])/X_used.shape[0]\n",
    "XGBs_model = xgb.XGBRegressor(n_jobs=1, tree_method=\"exact\", n_estimators=int(tuned_params['XGBoost-subsample']),\n",
    "                           num_parallel_tree = num_parallel_tree, subsample = subsample, random_state=seed)\n",
    "XGBs_model.fit(X_used,Y)\n",
    "elapsed = time.time() - t\n",
    "print('elapsed time = %0.2f sec; %s'%(elapsed, datetime.datetime.now()))"
   ]
  },
  {
   "cell_type": "code",
   "execution_count": 7,
   "id": "7104772b-496d-43c7-b685-64bd0f4338ba",
   "metadata": {},
   "outputs": [
    {
     "name": "stdout",
     "output_type": "stream",
     "text": [
      "zerotofive\n",
      "sixtotwenty\n",
      "grp\n",
      "home_own\n",
      "gender\n",
      "isHHH\n",
      "live_together\n",
      "college_educ\n",
      "work\n",
      "get_social_benefit\n",
      "got_social_benefit\n",
      "religion\n",
      "marriage\n",
      "health\n",
      "health\n",
      "health\n",
      "exercise\n",
      "exercise\n",
      "exercise\n",
      "smoke\n",
      "alcohol\n",
      "elapsed time = 79.26 sec; 2024-08-22 06:25:14.993042\n"
     ]
    }
   ],
   "source": [
    "t = time.time()\n",
    "ATE_all = {}\n",
    "ATE_all['Method'] = ['Nonparametric']*model_n\n",
    "ATE_all['Model'] = ['RF', 'XGB','XGBs']\n",
    "ATE_all['Seed'] = [seed]*model_n\n",
    "ATE_all['Param_val'] = [int(tuned_params['Random Forest']), int(tuned_params['XGBoost']), int(tuned_params['XGBoost-subsample'])]\n",
    "\n",
    "for j,char_name in enumerate(characteristic_names):\n",
    "    print(char_name)\n",
    "    x_fix_1 = X_used.copy()\n",
    "    x_fix_0 = X_used.copy()\n",
    "    x_fix_1[char_name] = positives[j]\n",
    "    x_fix_0[char_name] = negatives[j]\n",
    "    val_1_RF = np.mean(RF_model.predict(x_fix_1))\n",
    "    val_0_RF = np.mean(RF_model.predict(x_fix_0))\n",
    "    val_1_XGB = np.mean(XGB_model.predict(x_fix_1))\n",
    "    val_0_XGB = np.mean(XGB_model.predict(x_fix_0))\n",
    "    val_1_XGBs = np.mean(XGB_model.predict(x_fix_1))\n",
    "    val_0_XGBs = np.mean(XGB_model.predict(x_fix_0))\n",
    "    ATE_all[ATE_names[j]] = [val_1_RF-val_0_RF, val_1_XGB-val_0_XGB, val_1_XGBs-val_0_XGBs]\n",
    "elapsed = time.time() - t\n",
    "print('elapsed time = %0.2f sec; %s'%(elapsed, datetime.datetime.now()))"
   ]
  },
  {
   "cell_type": "code",
   "execution_count": 8,
   "id": "f6a85794-0354-4188-8db8-97ae067c387c",
   "metadata": {},
   "outputs": [],
   "source": [
    "ATE_all_pd = pd.DataFrame.from_dict(ATE_all)\n",
    "ATE_all_pd_melt = pd.melt(ATE_all_pd, id_vars=['Method','Model','Seed','Param_val'], value_vars=ATE_names)\n",
    "ATE_all_pd_melt = ATE_all_pd_melt[['Method','Model','Seed','Param_val','variable','value']]"
   ]
  },
  {
   "cell_type": "code",
   "execution_count": 9,
   "id": "4d9b4d68-092c-42dc-99fd-87782019b231",
   "metadata": {},
   "outputs": [],
   "source": [
    "out = ATE_all_pd_melt.values\n",
    "query = ''' insert or replace into ATE (Method,Model,Seed,Param_val,Treatment,Treat_Val) values (?,?,?,?,?,?) '''\n",
    "cur.executemany(query, out)\n",
    "con.commit()"
   ]
  },
  {
   "cell_type": "code",
   "execution_count": 10,
   "id": "5a2f0bfd-98e0-48de-88e0-bdeb7924fac2",
   "metadata": {},
   "outputs": [
    {
     "name": "stdout",
     "output_type": "stream",
     "text": [
      "zerotofive\n",
      "sixtotwenty\n",
      "grp\n",
      "home_own\n",
      "gender\n",
      "isHHH\n",
      "live_together\n",
      "college_educ\n",
      "work\n",
      "get_social_benefit\n",
      "got_social_benefit\n",
      "religion\n",
      "marriage\n",
      "health\n",
      "health\n",
      "health\n",
      "exercise\n",
      "exercise\n",
      "exercise\n",
      "smoke\n",
      "alcohol\n",
      "elapsed time = 6824.01 sec; 2024-08-22 08:18:59.047003\n"
     ]
    }
   ],
   "source": [
    "CATE_all_w = {}\n",
    "CATE_all_w['Method'] = ['Nonparametric']*(model_n*grid_size)\n",
    "CATE_all_w['Model'] = np.repeat(['RF','XGB','XGBs'],grid_size)\n",
    "CATE_all_w['Seed'] = [seed]*(model_n*grid_size)\n",
    "CATE_all_w['Param_val'] = np.repeat([int(tuned_params['Random Forest']), int(tuned_params['XGBoost']),int(tuned_params['XGBoost-subsample'])],grid_size)\n",
    "CATE_all_w['Conditional'] = ['hh_inc']*(model_n*grid_size)\n",
    "CATE_all_w['Condi_Val'] = w_grid.tolist()*model_n\n",
    "t = time.time()\n",
    "for j,char_name in enumerate(characteristic_names):\n",
    "    print(char_name)\n",
    "    val_1_RF = np.zeros((grid_size,))\n",
    "    val_0_RF = np.zeros((grid_size,))\n",
    "    val_1_XGB = np.zeros((grid_size,))\n",
    "    val_0_XGB = np.zeros((grid_size,))\n",
    "    val_1_XGBs = np.zeros((grid_size,))\n",
    "    val_0_XGBs = np.zeros((grid_size,))\n",
    "    for i in range(grid_size):\n",
    "        x_fix_1 = X_used.copy()\n",
    "        x_fix_0 = X_used.copy()\n",
    "        x_fix_1['hh_inc'] = w_grid[i]\n",
    "        x_fix_0['hh_inc'] = w_grid[i]\n",
    "        x_fix_1[characteristic_names[j]] = positives[j]\n",
    "        x_fix_0[characteristic_names[j]] = negatives[j]\n",
    "        val_1_RF[i] = np.sum(weights_w[:,i]*RF_model.predict(x_fix_1))\n",
    "        val_0_RF[i] = np.sum(weights_w[:,i]*RF_model.predict(x_fix_0))\n",
    "        val_1_XGB[i] = np.sum(weights_w[:,i]*XGB_model.predict(x_fix_1))\n",
    "        val_0_XGB[i] = np.sum(weights_w[:,i]*XGB_model.predict(x_fix_0))\n",
    "        val_1_XGBs[i] = np.sum(weights_w[:,i]*XGBs_model.predict(x_fix_1))\n",
    "        val_0_XGBs[i] = np.sum(weights_w[:,i]*XGBs_model.predict(x_fix_0))\n",
    "    CATE_all_w[ATE_names[j]] = np.concatenate((val_1_RF-val_0_RF, val_1_XGB-val_0_XGB, val_1_XGBs-val_0_XGBs))\n",
    "elapsed = time.time() - t\n",
    "print('elapsed time = %0.2f sec; %s'%(elapsed, datetime.datetime.now()))\n",
    "\n",
    "# plt.plot(w_grid, val_rf_w)\n",
    "# plt.legend(characteristic_names)\n",
    "# plt.title('Random Forest')\n",
    "# plt.xlabel('log household income')\n",
    "# plt.plot(w_grid, np.zeros((grid_size,)),color='black',linestyle='dashed')\n",
    "# plt.savefig('Figures/RF_all_w.png')"
   ]
  },
  {
   "cell_type": "code",
   "execution_count": 11,
   "id": "8ca0f6d6",
   "metadata": {},
   "outputs": [],
   "source": [
    "CATE_all_w_pd = pd.DataFrame.from_dict(CATE_all_w)\n",
    "CATE_all_w_pd_melt = pd.melt(CATE_all_w_pd, id_vars=['Method','Model','Seed','Param_val','Conditional','Condi_Val'], value_vars=ATE_names)\n",
    "CATE_all_w_pd_melt = CATE_all_w_pd_melt[['Method','Model','Seed','Param_val','variable','Conditional','value','Condi_Val']]\n",
    "CATE_all_w_pd_melt\n",
    "out = CATE_all_w_pd_melt.values\n",
    "query = ''' insert or replace into CATE (Method,Model,Seed,Param_val,Treatment,Conditional,Treat_Val,Condi_Val) values (?,?,?,?,?,?,?,?) '''\n",
    "cur.executemany(query, out)\n",
    "con.commit()\n",
    "\n",
    "# # CATE_all_w_pd_pivot = CATE_all_w_pd_melt.pivot(index = ['Model','seed','variable'],columns=['Condi_Val'],values='value')\n",
    "# # CATE_all_w_pd_pivot"
   ]
  },
  {
   "cell_type": "code",
   "execution_count": 7,
   "id": "70f212d0-b75b-49d1-a12d-5fcae53c31d5",
   "metadata": {},
   "outputs": [
    {
     "name": "stdout",
     "output_type": "stream",
     "text": [
      "zerotofive\n",
      "sixtotwenty\n",
      "grp\n",
      "home_own\n",
      "gender\n",
      "isHHH\n",
      "live_together\n",
      "college_educ\n",
      "work\n",
      "get_social_benefit\n",
      "got_social_benefit\n",
      "religion\n",
      "marriage\n",
      "health\n",
      "health\n",
      "health\n",
      "exercise\n",
      "exercise\n",
      "exercise\n",
      "smoke\n",
      "alcohol\n",
      "elapsed time = 7025.64 sec; 2024-08-22 11:54:50.308424\n"
     ]
    }
   ],
   "source": [
    "CATE_all_a = {}\n",
    "CATE_all_a['Method'] = ['Nonparametric']*(model_n*grid_size)\n",
    "CATE_all_a['Model'] = np.repeat(['RF','XGB','XGBs'],grid_size)\n",
    "CATE_all_a['Seed'] = [seed]*(model_n*grid_size)\n",
    "CATE_all_a['Param_val'] = np.repeat([int(tuned_params['Random Forest']), int(tuned_params['XGBoost']),int(tuned_params['XGBoost-subsample'])],grid_size)\n",
    "CATE_all_a['Conditional'] = ['age']*(model_n*grid_size)\n",
    "CATE_all_a['Condi_Val'] = a_grid.tolist()*model_n\n",
    "\n",
    "t = time.time()\n",
    "for j,char_name in enumerate(characteristic_names):\n",
    "    print(char_name)\n",
    "    val_1_RF = np.zeros((grid_size,))\n",
    "    val_0_RF = np.zeros((grid_size,))\n",
    "    val_1_XGB = np.zeros((grid_size,))\n",
    "    val_0_XGB = np.zeros((grid_size,))\n",
    "    val_1_XGBs = np.zeros((grid_size,))\n",
    "    val_0_XGBs = np.zeros((grid_size,))\n",
    "    for i in range(grid_size):\n",
    "        x_fix_1 = X_used.copy()\n",
    "        x_fix_0 = X_used.copy()\n",
    "        x_fix_1['age'] = a_grid[i]\n",
    "        x_fix_0['age'] = a_grid[i]\n",
    "        x_fix_1[characteristic_names[j]] = positives[j]\n",
    "        x_fix_0[characteristic_names[j]] = negatives[j]\n",
    "        val_1_RF[i] = np.sum(weights_a[:,i]*RF_model.predict(x_fix_1))\n",
    "        val_0_RF[i] = np.sum(weights_a[:,i]*RF_model.predict(x_fix_0))\n",
    "        val_1_XGB[i] = np.sum(weights_a[:,i]*XGB_model.predict(x_fix_1))\n",
    "        val_0_XGB[i] = np.sum(weights_a[:,i]*XGB_model.predict(x_fix_0))\n",
    "        val_1_XGBs[i] = np.sum(weights_a[:,i]*XGBs_model.predict(x_fix_1))\n",
    "        val_0_XGBs[i] = np.sum(weights_a[:,i]*XGBs_model.predict(x_fix_0))\n",
    "    CATE_all_a[ATE_names[j]] = np.concatenate((val_1_RF-val_0_RF, val_1_XGB-val_0_XGB, val_1_XGBs-val_0_XGBs))\n",
    "elapsed = time.time() - t\n",
    "print('elapsed time = %0.2f sec; %s'%(elapsed, datetime.datetime.now()))\n",
    "\n",
    "# plt.plot(w_grid, val_rf_w)\n",
    "# plt.legend(characteristic_names)\n",
    "# plt.title('Random Forest')\n",
    "# plt.xlabel('log household income')\n",
    "# plt.plot(w_grid, np.zeros((grid_size,)),color='black',linestyle='dashed')\n",
    "# plt.savefig('Figures/RF_all_w.png')"
   ]
  },
  {
   "cell_type": "code",
   "execution_count": 8,
   "id": "d8def5d4",
   "metadata": {},
   "outputs": [],
   "source": [
    "CATE_all_a_pd = pd.DataFrame.from_dict(CATE_all_a)\n",
    "CATE_all_a_pd_melt = pd.melt(CATE_all_a_pd, id_vars=['Method','Model','Seed','Param_val','Conditional','Condi_Val'], value_vars=ATE_names)\n",
    "CATE_all_a_pd_melt = CATE_all_a_pd_melt[['Method','Model','Seed','Param_val','variable','Conditional','value','Condi_Val']]\n",
    "CATE_all_a_pd_melt\n",
    "out = CATE_all_a_pd_melt.values\n",
    "query = ''' insert or replace into CATE (Method,Model,Seed,Param_val,Treatment,Conditional,Treat_Val,Condi_Val) values (?,?,?,?,?,?,?,?) '''\n",
    "cur.executemany(query, out)\n",
    "con.commit()\n",
    "cur.close()\n",
    "con.close()\n",
    "\n",
    "# CATE_all_a_pd_pivot = CATE_all_a_pd_melt.pivot(index = ['Model','seed','variable'],columns=['Condi_Val'],values='value')\n",
    "# CATE_all_a_pd_pivot"
   ]
  }
 ],
 "metadata": {
  "kernelspec": {
   "display_name": "Python 3",
   "language": "python",
   "name": "python3"
  },
  "language_info": {
   "codemirror_mode": {
    "name": "ipython",
    "version": 3
   },
   "file_extension": ".py",
   "mimetype": "text/x-python",
   "name": "python",
   "nbconvert_exporter": "python",
   "pygments_lexer": "ipython3",
   "version": "3.8.8"
  }
 },
 "nbformat": 4,
 "nbformat_minor": 5
}
